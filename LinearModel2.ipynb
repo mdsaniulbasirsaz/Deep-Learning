{
  "nbformat": 4,
  "nbformat_minor": 0,
  "metadata": {
    "colab": {
      "provenance": [],
      "authorship_tag": "ABX9TyPbREEztSrskBsOZuPRVnwz",
      "include_colab_link": true
    },
    "kernelspec": {
      "name": "python3",
      "display_name": "Python 3"
    },
    "language_info": {
      "name": "python"
    }
  },
  "cells": [
    {
      "cell_type": "markdown",
      "metadata": {
        "id": "view-in-github",
        "colab_type": "text"
      },
      "source": [
        "<a href=\"https://colab.research.google.com/github/mdsaniulbasirsaz/Deep-Learning/blob/main/LinearModel2.ipynb\" target=\"_parent\"><img src=\"https://colab.research.google.com/assets/colab-badge.svg\" alt=\"Open In Colab\"/></a>"
      ]
    },
    {
      "cell_type": "markdown",
      "source": [
        "Estimate salary of worker with work experience(S).\n",
        "Equation:\n",
        "y = 5000x + 2000\n",
        "\n",
        "\n",
        "\n",
        "\n",
        "\n",
        "* x = Work experience(in Year)\n",
        "* y = Perdict Salary\n",
        "* w = weight, How much the salary iincreases with each year of experience\n",
        "* b = 2000; Provides a starting salary even if the worker has no experience"
      ],
      "metadata": {
        "id": "3aVRtbviJ12Q"
      }
    },
    {
      "cell_type": "code",
      "source": [
        "import torch\n",
        "import torch.nn  as nn\n",
        "import torch.optim as optim"
      ],
      "metadata": {
        "id": "Rxnyh49mLUJ6"
      },
      "execution_count": null,
      "outputs": []
    },
    {
      "cell_type": "code",
      "source": [
        "class LinearModel(nn.Module):\n",
        "  def __init__(self):\n",
        "    super(LinearModel,self).__init__()\n",
        "    self.linear = nn.Linear(1,1)\n",
        "\n",
        "  def forward(self,x):\n",
        "    return self.linear(x)"
      ],
      "metadata": {
        "id": "xNWqRhbILv32"
      },
      "execution_count": null,
      "outputs": []
    },
    {
      "cell_type": "code",
      "source": [
        "model = LinearModel()\n",
        "criterion = nn.MSELoss()\n",
        "optimizer = optim.SGD(model.parameters(),lr=0.01)"
      ],
      "metadata": {
        "id": "txE4BK4UMVUA"
      },
      "execution_count": null,
      "outputs": []
    },
    {
      "cell_type": "code",
      "source": [
        "\n",
        "exerience = torch.tensor([[1.0],[2.0],[3.0],[4.0],[5.0]])\n",
        "w = 5000\n",
        "b = 2000\n",
        "salary = w * exerience + b\n",
        "print(\"salary:{}\".format(salary))"
      ],
      "metadata": {
        "colab": {
          "base_uri": "https://localhost:8080/"
        },
        "id": "r8AtFCn2OX53",
        "outputId": "93a18b6d-c1ef-4c98-ebae-f3ae1b57a2b6"
      },
      "execution_count": null,
      "outputs": [
        {
          "output_type": "stream",
          "name": "stdout",
          "text": [
            "salary:tensor([[ 7000.],\n",
            "        [12000.],\n",
            "        [17000.],\n",
            "        [22000.],\n",
            "        [27000.]])\n"
          ]
        }
      ]
    },
    {
      "cell_type": "code",
      "source": [
        "experience = torch.tensor([[1.0],[2.0],[3.0],[4.0],[5.0]])\n",
        "salary = torch.tensor([[ 7000.0],[12000.0],[17000.0],[22000.0],[27000.0]])"
      ],
      "metadata": {
        "id": "SNrd-g0uPIml"
      },
      "execution_count": null,
      "outputs": []
    },
    {
      "cell_type": "code",
      "source": [
        "\n",
        "for epoch in range(1000):\n",
        "  model.train()\n",
        "  optimizer.zero_grad()\n",
        "\n",
        "  outputs = model(experience)\n",
        "  loss = criterion(outputs,salary)\n",
        "  loss.backward()\n",
        "  optimizer.step()\n",
        "  if (epoch + 1) % 100 == 0:\n",
        "        print(f'Epoch [{epoch+1}/1000], Loss: {loss.item():.4f}')"
      ],
      "metadata": {
        "colab": {
          "base_uri": "https://localhost:8080/"
        },
        "id": "xkJZeY9aQKqN",
        "outputId": "d2f403b9-abe4-4d57-b91d-bca75213a51a"
      },
      "execution_count": null,
      "outputs": [
        {
          "output_type": "stream",
          "name": "stdout",
          "text": [
            "Epoch [100/1000], Loss: 34.7358\n",
            "Epoch [200/1000], Loss: 17.6497\n",
            "Epoch [300/1000], Loss: 8.9683\n",
            "Epoch [400/1000], Loss: 4.5551\n",
            "Epoch [500/1000], Loss: 2.3169\n",
            "Epoch [600/1000], Loss: 1.1777\n",
            "Epoch [700/1000], Loss: 0.5987\n",
            "Epoch [800/1000], Loss: 0.3041\n",
            "Epoch [900/1000], Loss: 0.1546\n",
            "Epoch [1000/1000], Loss: 0.0789\n"
          ]
        }
      ]
    },
    {
      "cell_type": "code",
      "source": [
        "model.eval()\n",
        "test_experience = torch.tensor([[1.0],[2.0],[3.0],[4.0],[5.0],[10.0],[11.0]])\n",
        "predicted_salary = model(test_experience)\n",
        "for exp, sal in zip(test_experience, predicted_salary):\n",
        "    print(f'Predicted salary for {exp.item()} years of experience: {sal.item():.2f} taka')"
      ],
      "metadata": {
        "colab": {
          "base_uri": "https://localhost:8080/"
        },
        "id": "-TjUGEdoRQwd",
        "outputId": "03b05104-d7bd-4a67-ec2e-cfe0b3cb843b"
      },
      "execution_count": null,
      "outputs": [
        {
          "output_type": "stream",
          "name": "stdout",
          "text": [
            "Predicted salary for 1.0 years of experience: 6986.03 taka\n",
            "Predicted salary for 2.0 years of experience: 11991.38 taka\n",
            "Predicted salary for 3.0 years of experience: 16996.74 taka\n",
            "Predicted salary for 4.0 years of experience: 22002.09 taka\n",
            "Predicted salary for 5.0 years of experience: 27007.44 taka\n",
            "Predicted salary for 10.0 years of experience: 52034.19 taka\n",
            "Predicted salary for 11.0 years of experience: 57039.54 taka\n"
          ]
        }
      ]
    },
    {
      "cell_type": "code",
      "source": [
        "import matplotlib.pyplot as plt\n",
        "plt.figure(figsize=(10, 5))\n",
        "\n",
        "plt.subplot(1, 2, 1)\n",
        "plt.scatter(experience.numpy(), salary.numpy(), color='blue', label='True Salary')\n",
        "plt.plot(test_experience.numpy(), predicted_salary.detach().numpy(), color='red', label='Predicted Salary')\n",
        "plt.xlabel('Experience (years)')\n",
        "plt.ylabel('Salary (taka)')\n",
        "plt.title('Experience vs Salary')\n",
        "plt.legend()\n",
        "\n",
        "\n",
        "\n",
        "plt.tight_layout()\n",
        "plt.show()"
      ],
      "metadata": {
        "colab": {
          "base_uri": "https://localhost:8080/",
          "height": 527
        },
        "id": "iwW9AuNBS-TB",
        "outputId": "e3800954-ccf7-49d3-88a3-55fc6bf0daf3"
      },
      "execution_count": null,
      "outputs": [
        {
          "output_type": "display_data",
          "data": {
            "text/plain": [
              "<Figure size 1000x500 with 1 Axes>"
            ],
            "image/png": "[encoded data removed]"
          },
          "metadata": {}
        }
      ]
    }
  ]
}