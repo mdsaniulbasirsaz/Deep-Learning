{
  "nbformat": 4,
  "nbformat_minor": 0,
  "metadata": {
    "colab": {
      "provenance": [],
      "include_colab_link": true
    },
    "kernelspec": {
      "name": "python3",
      "display_name": "Python 3"
    },
    "language_info": {
      "name": "python"
    }
  },
  "cells": [
    {
      "cell_type": "markdown",
      "metadata": {
        "id": "view-in-github",
        "colab_type": "text"
      },
      "source": [
        "<a href=\"https://colab.research.google.com/github/mdsaniulbasirsaz/Deep-Learning/blob/main/LinearModel.ipynb\" target=\"_parent\"><img src=\"https://colab.research.google.com/assets/colab-badge.svg\" alt=\"Open In Colab\"/></a>"
      ]
    },
    {
      "cell_type": "code",
      "execution_count": null,
      "metadata": {
        "colab": {
          "base_uri": "https://localhost:8080/"
        },
        "id": "QT2sOogX2bHE",
        "outputId": "6cc8f771-251b-4037-be6f-13b1de8fb98d"
      },
      "outputs": [
        {
          "output_type": "stream",
          "name": "stdout",
          "text": [
            "2.17.0\n"
          ]
        }
      ],
      "source": [
        "import tensorflow as tf\n",
        "import numpy as np\n",
        "from tensorflow import keras\n",
        "\n",
        "print(tf.__version__)"
      ]
    },
    {
      "cell_type": "markdown",
      "source": [
        "Equation:\n",
        " y = 2x + 30"
      ],
      "metadata": {
        "id": "-QSDm2ce6ECP"
      }
    },
    {
      "cell_type": "markdown",
      "source": [
        "Data 1:\n",
        "xs = {-10,0,6,2,12,15}\n"
      ],
      "metadata": {
        "id": "SCn5RJqa7IjF"
      }
    },
    {
      "cell_type": "code",
      "source": [
        "xs = [-10, 0, 6, 2, 12, 15]\n",
        "ys = [2 * x +  30 for x in xs]\n",
        "print(ys)"
      ],
      "metadata": {
        "colab": {
          "base_uri": "https://localhost:8080/"
        },
        "id": "MWkk_Xuu9zGH",
        "outputId": "d4c5259a-0ceb-42df-c3cb-95661d4ceb66"
      },
      "execution_count": null,
      "outputs": [
        {
          "output_type": "stream",
          "name": "stdout",
          "text": [
            "[10, 30, 42, 34, 54, 60]\n"
          ]
        }
      ]
    },
    {
      "cell_type": "code",
      "source": [
        "xs = np.array([-10, 0, 6, 2, 12, 15], dtype=float)\n",
        "ys = np.array([2 * x +  30 for x in xs], dtype=float)\n",
        "\n",
        "for i,x in enumerate(xs):\n",
        "  print(\"X: {} Y: {}\".format(x, ys[i]))"
      ],
      "metadata": {
        "colab": {
          "base_uri": "https://localhost:8080/"
        },
        "id": "jEtdt0Vn-4JW",
        "outputId": "efb89b69-2ca6-4aa4-8aea-0e0be603cb90"
      },
      "execution_count": null,
      "outputs": [
        {
          "output_type": "stream",
          "name": "stdout",
          "text": [
            "X: -10.0 Y: 10.0\n",
            "X: 0.0 Y: 30.0\n",
            "X: 6.0 Y: 42.0\n",
            "X: 2.0 Y: 34.0\n",
            "X: 12.0 Y: 54.0\n",
            "X: 15.0 Y: 60.0\n"
          ]
        }
      ]
    },
    {
      "cell_type": "code",
      "source": [
        "from google.colab import drive\n",
        "drive.mount('/content/drive')"
      ],
      "metadata": {
        "id": "QD5yjMqhCeu4"
      },
      "execution_count": null,
      "outputs": []
    },
    {
      "cell_type": "code",
      "source": [
        "import matplotlib.pyplot as plt\n",
        "plt.title(\"Graph of y = 2x + 30\")\n",
        "plt.scatter(xs, ys)"
      ],
      "metadata": {
        "colab": {
          "base_uri": "https://localhost:8080/",
          "height": 490
        },
        "id": "yhgwxw-aAx0U",
        "outputId": "29a6a1b8-17b6-40ea-be1e-dbe5c1f25ac4"
      },
      "execution_count": null,
      "outputs": [
        {
          "output_type": "execute_result",
          "data": {
            "text/plain": [
              "<matplotlib.collections.PathCollection at 0x7b9aacb9cd30>"
            ]
          },
          "metadata": {},
          "execution_count": 12
        },
        {
          "output_type": "display_data",
          "data": {
            "text/plain": [
              "<Figure size 640x480 with 1 Axes>"
            ],
            "image/png": "[encoded data removed]"
          },
          "metadata": {}
        }
      ]
    }
  ]
}