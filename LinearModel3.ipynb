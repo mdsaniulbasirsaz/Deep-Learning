{
  "nbformat": 4,
  "nbformat_minor": 0,
  "metadata": {
    "colab": {
      "provenance": [],
      "authorship_tag": "ABX9TyPlnZENPe/Z1b9KfkeI1G1+",
      "include_colab_link": true
    },
    "kernelspec": {
      "name": "python3",
      "display_name": "Python 3"
    },
    "language_info": {
      "name": "python"
    }
  },
  "cells": [
    {
      "cell_type": "markdown",
      "metadata": {
        "id": "view-in-github",
        "colab_type": "text"
      },
      "source": [
        "<a href=\"https://colab.research.google.com/github/mdsaniulbasirsaz/Deep-Learning/blob/main/LinearModel3.ipynb\" target=\"_parent\"><img src=\"https://colab.research.google.com/assets/colab-badge.svg\" alt=\"Open In Colab\"/></a>"
      ]
    },
    {
      "cell_type": "code",
      "execution_count": 1,
      "metadata": {
        "id": "ZqnFXD-KnTs-"
      },
      "outputs": [],
      "source": [
        "import torch\n",
        "import torch.nn as nn\n",
        "import torch.optim as optim"
      ]
    },
    {
      "cell_type": "code",
      "source": [
        "x = torch.tensor([[1],[2],[3],[4],[5],[6],[7],[8],[9],[10]], dtype=torch.float)\n",
        "y = torch.zeros_like(x)\n",
        "\n",
        "for i in range(len(x)):\n",
        "    y[i] = 2*x[i] + 1\n",
        "print(y)"
      ],
      "metadata": {
        "colab": {
          "base_uri": "https://localhost:8080/"
        },
        "id": "o1fT5sGTzLZ5",
        "outputId": "5739da5c-1311-481a-8fb1-1c39871d1328"
      },
      "execution_count": 12,
      "outputs": [
        {
          "output_type": "stream",
          "name": "stdout",
          "text": [
            "tensor([[ 3.],\n",
            "        [ 5.],\n",
            "        [ 7.],\n",
            "        [ 9.],\n",
            "        [11.],\n",
            "        [13.],\n",
            "        [15.],\n",
            "        [17.],\n",
            "        [19.],\n",
            "        [21.]])\n"
          ]
        }
      ]
    },
    {
      "cell_type": "code",
      "source": [
        "class LinearModel(nn.Module):\n",
        "    def __init__(self):\n",
        "      super(LinearModel,self).__init__()\n",
        "      self.linear = nn.Linear(1,1)\n",
        "\n",
        "    def forward(self,x):\n",
        "      return self.linear(x)"
      ],
      "metadata": {
        "id": "_oM3gVpi0Kdg"
      },
      "execution_count": 13,
      "outputs": []
    },
    {
      "cell_type": "code",
      "source": [
        "model = LinearModel()\n",
        "criterion = nn.MSELoss()\n",
        "optimizer = optim.SGD(model.parameters(),lr=0.01)\n"
      ],
      "metadata": {
        "id": "cazEzA-Q2feC"
      },
      "execution_count": 14,
      "outputs": []
    },
    {
      "cell_type": "code",
      "source": [
        "\n",
        "num_epochs = 100\n",
        "for epoch in range(num_epochs):\n",
        "    outputs = model(x)\n",
        "    loss = criterion(outputs, y)\n",
        "\n",
        "    optimizer.zero_grad()\n",
        "    loss.backward()\n",
        "    optimizer.step()\n",
        "\n",
        "\n",
        "    if (epoch+1) % 10 == 0:\n",
        "        print(f'Epoch [{epoch+1}/{num_epochs}], Loss: {loss.item():.4f}')\n"
      ],
      "metadata": {
        "colab": {
          "base_uri": "https://localhost:8080/"
        },
        "id": "VWPlZscx2oXY",
        "outputId": "2c83bb11-36e8-4e65-a779-1e2a841e85d4"
      },
      "execution_count": 24,
      "outputs": [
        {
          "output_type": "stream",
          "name": "stdout",
          "text": [
            "Epoch [10/100], Loss: 0.0946\n",
            "Epoch [20/100], Loss: 0.0869\n",
            "Epoch [30/100], Loss: 0.0799\n",
            "Epoch [40/100], Loss: 0.0735\n",
            "Epoch [50/100], Loss: 0.0675\n",
            "Epoch [60/100], Loss: 0.0621\n",
            "Epoch [70/100], Loss: 0.0571\n",
            "Epoch [80/100], Loss: 0.0525\n",
            "Epoch [90/100], Loss: 0.0482\n",
            "Epoch [100/100], Loss: 0.0443\n"
          ]
        }
      ]
    },
    {
      "cell_type": "code",
      "source": [
        "import matplotlib.pyplot as plt\n",
        "plt.scatter(x.numpy(),y.numpy())\n",
        "plt.scatter(x.numpy(),model(x).detach().numpy())"
      ],
      "metadata": {
        "colab": {
          "base_uri": "https://localhost:8080/",
          "height": 468
        },
        "id": "fd63lOdY6TYA",
        "outputId": "8246438f-4d31-419a-f8a0-513d87e23dbb"
      },
      "execution_count": 27,
      "outputs": [
        {
          "output_type": "execute_result",
          "data": {
            "text/plain": [
              "<matplotlib.collections.PathCollection at 0x7bf84e9fe110>"
            ]
          },
          "metadata": {},
          "execution_count": 27
        },
        {
          "output_type": "display_data",
          "data": {
            "text/plain": [
              "<Figure size 640x480 with 1 Axes>"
            ],
            "image/png": "[encoded data removed]"
          },
          "metadata": {}
        }
      ]
    }
  ]
}